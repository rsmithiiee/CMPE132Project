{
 "cells": [
  {
   "cell_type": "markdown",
   "metadata": {},
   "source": [
    "# Healthcare IoT Device Network Intrusion Detection System"
   ]
  },
  {
   "cell_type": "markdown",
   "metadata": {},
   "source": [
    "### Data Preprocessing"
   ]
  },
  {
   "cell_type": "code",
   "execution_count": null,
   "metadata": {},
   "outputs": [
    {
     "name": "stdout",
     "output_type": "stream",
     "text": [
      "['C:/Users/spark/CMPE 132 Project/Dataset/Train\\\\ARP_Spoofing_train.pcap.csv', 'C:/Users/spark/CMPE 132 Project/Dataset/Train\\\\Benign_train.pcap.csv', 'C:/Users/spark/CMPE 132 Project/Dataset/Train\\\\MQTT-DDoS-Connect_Flood_train.pcap.csv', 'C:/Users/spark/CMPE 132 Project/Dataset/Train\\\\MQTT-DDoS-Publish_Flood_train.pcap.csv', 'C:/Users/spark/CMPE 132 Project/Dataset/Train\\\\MQTT-DoS-Connect_Flood_train.pcap.csv', 'C:/Users/spark/CMPE 132 Project/Dataset/Train\\\\MQTT-DoS-Publish_Flood_train.pcap.csv', 'C:/Users/spark/CMPE 132 Project/Dataset/Train\\\\MQTT-Malformed_Data_train.pcap.csv', 'C:/Users/spark/CMPE 132 Project/Dataset/Train\\\\Recon-OS_Scan_train.pcap.csv', 'C:/Users/spark/CMPE 132 Project/Dataset/Train\\\\Recon-Ping_Sweep_train.pcap.csv', 'C:/Users/spark/CMPE 132 Project/Dataset/Train\\\\Recon-Port_Scan_train.pcap.csv', 'C:/Users/spark/CMPE 132 Project/Dataset/Train\\\\Recon-VulScan_train.pcap.csv', 'C:/Users/spark/CMPE 132 Project/Dataset/Train\\\\TCP_IP-DDoS-ICMP1_train.pcap.csv', 'C:/Users/spark/CMPE 132 Project/Dataset/Train\\\\TCP_IP-DDoS-ICMP2_train.pcap.csv', 'C:/Users/spark/CMPE 132 Project/Dataset/Train\\\\TCP_IP-DDoS-ICMP3_train.pcap.csv', 'C:/Users/spark/CMPE 132 Project/Dataset/Train\\\\TCP_IP-DDoS-ICMP4_train.pcap.csv', 'C:/Users/spark/CMPE 132 Project/Dataset/Train\\\\TCP_IP-DDoS-ICMP5_train.pcap.csv', 'C:/Users/spark/CMPE 132 Project/Dataset/Train\\\\TCP_IP-DDoS-ICMP6_train.pcap.csv', 'C:/Users/spark/CMPE 132 Project/Dataset/Train\\\\TCP_IP-DDoS-ICMP7_train.pcap.csv', 'C:/Users/spark/CMPE 132 Project/Dataset/Train\\\\TCP_IP-DDoS-ICMP8_train.pcap.csv', 'C:/Users/spark/CMPE 132 Project/Dataset/Train\\\\TCP_IP-DDoS-SYN1_train.pcap.csv', 'C:/Users/spark/CMPE 132 Project/Dataset/Train\\\\TCP_IP-DDoS-SYN2_train.pcap.csv', 'C:/Users/spark/CMPE 132 Project/Dataset/Train\\\\TCP_IP-DDoS-SYN3_train.pcap.csv', 'C:/Users/spark/CMPE 132 Project/Dataset/Train\\\\TCP_IP-DDoS-SYN4_train.pcap.csv', 'C:/Users/spark/CMPE 132 Project/Dataset/Train\\\\TCP_IP-DDoS-TCP1_train.pcap.csv', 'C:/Users/spark/CMPE 132 Project/Dataset/Train\\\\TCP_IP-DDoS-TCP2_train.pcap.csv', 'C:/Users/spark/CMPE 132 Project/Dataset/Train\\\\TCP_IP-DDoS-TCP3_train.pcap.csv', 'C:/Users/spark/CMPE 132 Project/Dataset/Train\\\\TCP_IP-DDoS-TCP4_train.pcap.csv', 'C:/Users/spark/CMPE 132 Project/Dataset/Train\\\\TCP_IP-DDoS-UDP1_train.pcap.csv', 'C:/Users/spark/CMPE 132 Project/Dataset/Train\\\\TCP_IP-DDoS-UDP2_train.pcap.csv', 'C:/Users/spark/CMPE 132 Project/Dataset/Train\\\\TCP_IP-DDoS-UDP3_train.pcap.csv', 'C:/Users/spark/CMPE 132 Project/Dataset/Train\\\\TCP_IP-DDoS-UDP4_train.pcap.csv', 'C:/Users/spark/CMPE 132 Project/Dataset/Train\\\\TCP_IP-DDoS-UDP5_train.pcap.csv', 'C:/Users/spark/CMPE 132 Project/Dataset/Train\\\\TCP_IP-DDoS-UDP6_train.pcap.csv', 'C:/Users/spark/CMPE 132 Project/Dataset/Train\\\\TCP_IP-DDoS-UDP7_train.pcap.csv', 'C:/Users/spark/CMPE 132 Project/Dataset/Train\\\\TCP_IP-DDoS-UDP8_train.pcap.csv', 'C:/Users/spark/CMPE 132 Project/Dataset/Train\\\\TCP_IP-DoS-ICMP1_train.pcap.csv', 'C:/Users/spark/CMPE 132 Project/Dataset/Train\\\\TCP_IP-DoS-ICMP2_train.pcap.csv', 'C:/Users/spark/CMPE 132 Project/Dataset/Train\\\\TCP_IP-DoS-ICMP3_train.pcap.csv', 'C:/Users/spark/CMPE 132 Project/Dataset/Train\\\\TCP_IP-DoS-ICMP4_train.pcap.csv', 'C:/Users/spark/CMPE 132 Project/Dataset/Train\\\\TCP_IP-DoS-SYN1_train.pcap.csv', 'C:/Users/spark/CMPE 132 Project/Dataset/Train\\\\TCP_IP-DoS-SYN2_train.pcap.csv', 'C:/Users/spark/CMPE 132 Project/Dataset/Train\\\\TCP_IP-DoS-SYN3_train.pcap.csv', 'C:/Users/spark/CMPE 132 Project/Dataset/Train\\\\TCP_IP-DoS-SYN4_train.pcap.csv', 'C:/Users/spark/CMPE 132 Project/Dataset/Train\\\\TCP_IP-DoS-TCP1_train.pcap.csv', 'C:/Users/spark/CMPE 132 Project/Dataset/Train\\\\TCP_IP-DoS-TCP2_train.pcap.csv', 'C:/Users/spark/CMPE 132 Project/Dataset/Train\\\\TCP_IP-DoS-TCP3_train.pcap.csv', 'C:/Users/spark/CMPE 132 Project/Dataset/Train\\\\TCP_IP-DoS-TCP4_train.pcap.csv', 'C:/Users/spark/CMPE 132 Project/Dataset/Train\\\\TCP_IP-DoS-UDP1_train.pcap.csv', 'C:/Users/spark/CMPE 132 Project/Dataset/Train\\\\TCP_IP-DoS-UDP2_train.pcap.csv', 'C:/Users/spark/CMPE 132 Project/Dataset/Train\\\\TCP_IP-DoS-UDP3_train.pcap.csv', 'C:/Users/spark/CMPE 132 Project/Dataset/Train\\\\TCP_IP-DoS-UDP4_train.pcap.csv']\n"
     ]
    },
    {
     "ename": "TypeError",
     "evalue": "replace() takes at least 2 positional arguments (1 given)",
     "output_type": "error",
     "traceback": [
      "\u001b[31m---------------------------------------------------------------------------\u001b[39m",
      "\u001b[31mTypeError\u001b[39m                                 Traceback (most recent call last)",
      "\u001b[36mCell\u001b[39m\u001b[36m \u001b[39m\u001b[32mIn[41]\u001b[39m\u001b[32m, line 21\u001b[39m\n\u001b[32m     18\u001b[39m filename = os.path.basename(file)\n\u001b[32m     20\u001b[39m \u001b[38;5;66;03m#split the file name to get the \u001b[39;00m\n\u001b[32m---> \u001b[39m\u001b[32m21\u001b[39m attack_type = \u001b[43mfilename\u001b[49m\u001b[43m.\u001b[49m\u001b[43mreplace\u001b[49m\u001b[43m(\u001b[49m\u001b[33;43m\"\u001b[39;49m\u001b[33;43m_train.pcap.csv\u001b[39;49m\u001b[33;43m\"\u001b[39;49m\u001b[43m)\u001b[49m\n\u001b[32m     22\u001b[39m \u001b[38;5;28mprint\u001b[39m(attack_type)\n\u001b[32m     24\u001b[39m df = pd.read_csv(file)\n",
      "\u001b[31mTypeError\u001b[39m: replace() takes at least 2 positional arguments (1 given)"
     ]
    }
   ],
   "source": [
    "import pandas as pd \n",
    "import os\n",
    "import glob\n",
    "\n",
    "#get directory folder of test csv files\n",
    "data_dir = r\"C:\\Users\\spark\\CMPE 132 Project\\Dataset\\Train\".replace(\"\\\\\", \"/\")\n",
    "\n",
    "#store paths of all csv files in the folder\n",
    "csv_files = glob.glob(os.path.join(data_dir, \"*.csv\"))\n",
    "print(csv_files)\n",
    "\n",
    "#list to store csv files as dataframes\n",
    "dataframes = []\n",
    "\n",
    "#create dataframes for each csv with column to label the class type\n",
    "#get filename from path\n",
    "for file in csv_files:\n",
    "    filename = os.path.basename(file)\n",
    "\n",
    "    #split the file name to get the \n",
    "    attack_type = filename.split(\"_train.pcap.csv\")\n",
    "    print(attack_type)\n",
    "\n",
    "    df = pd.read_csv(file)\n",
    "\n",
    "    df['label'] = attack_type\n",
    "\n",
    "    df.head(10)\n",
    "    dataframes.append(df)\n"
   ]
  }
 ],
 "metadata": {
  "kernelspec": {
   "display_name": "Python 3",
   "language": "python",
   "name": "python3"
  },
  "language_info": {
   "codemirror_mode": {
    "name": "ipython",
    "version": 3
   },
   "file_extension": ".py",
   "mimetype": "text/x-python",
   "name": "python",
   "nbconvert_exporter": "python",
   "pygments_lexer": "ipython3",
   "version": "3.13.2"
  }
 },
 "nbformat": 4,
 "nbformat_minor": 2
}
