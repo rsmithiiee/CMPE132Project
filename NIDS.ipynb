{
 "cells": [
  {
   "cell_type": "markdown",
   "metadata": {},
   "source": [
    "# Healthcare IoT Device Network Intrusion Detection System"
   ]
  },
  {
   "cell_type": "markdown",
   "metadata": {},
   "source": [
    "### Data Preprocessing"
   ]
  },
  {
   "cell_type": "code",
   "execution_count": null,
   "metadata": {},
   "outputs": [],
   "source": [
    "import pandas as pd\n",
    "import os\n",
    "import glob\n",
    "\n",
    "#options to see all columns in dataframes\n",
    "pd.set_option(\"display.max_columns\", None)\n",
    "\n",
    "#get directory folder of test csv files (make sure to replace with path on your computer)\n",
    "data_dir = r\"C:\\Users\\spark\\CMPE 132 Project\\CMPE132Project\\Dataset\\Train\".replace(\"\\\\\", \"/\")\n",
    "\n",
    "#store paths of all csv files in the folder in a list\n",
    "csv_files = glob.glob(os.path.join(data_dir, \"*.csv\"))\n",
    "\n",
    "#list to store csv files as dataframes\n",
    "dataframes = []\n",
    "\n",
    "#create dataframes for each csv with column to label the class type\n",
    "#get filename from path\n",
    "for file in csv_files:\n",
    "    filename = os.path.basename(file)\n",
    "\n",
    "    #split the file name to get the class of the attack\n",
    "    attack_type = filename.split(\"_train.pcap.csv\")[0]\n",
    "\n",
    "    #since some attacks are split into multiple files we need to remove numbers from the string\n",
    "    #last character is a number so we can remove it\n",
    "    if(attack_type[-1].isdigit()):\n",
    "        attack_type = attack_type[:-1]\n",
    "\n",
    "    #create a dataframe for the specific csv file\n",
    "    df = pd.read_csv(file)\n",
    "\n",
    "    #create a new column to classify the attack type in that csv file\n",
    "    df['classification'] = attack_type\n",
    "\n",
    "    #append the dataframe to the dataframes list\n",
    "    dataframes.append(df)\n",
    "\n",
    "#combine all of the dataframes into one\n",
    "combined_df = pd.concat(dataframes, ignore_index=True)\n",
    "df.head(100)"
   ]
  }
 ],
 "metadata": {
  "kernelspec": {
   "display_name": "Python 3",
   "language": "python",
   "name": "python3"
  },
  "language_info": {
   "codemirror_mode": {
    "name": "ipython",
    "version": 3
   },
   "file_extension": ".py",
   "mimetype": "text/x-python",
   "name": "python",
   "nbconvert_exporter": "python",
   "pygments_lexer": "ipython3",
   "version": "3.13.2"
  }
 },
 "nbformat": 4,
 "nbformat_minor": 2
}
