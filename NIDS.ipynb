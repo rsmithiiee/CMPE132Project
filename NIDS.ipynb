{
 "cells": [
  {
   "cell_type": "markdown",
   "metadata": {},
   "source": [
    "# Healthcare IoT Device Network Intrusion Detection System"
   ]
  },
  {
   "cell_type": "markdown",
   "metadata": {},
   "source": [
    "### Data Preprocessing"
   ]
  },
  {
   "cell_type": "code",
   "execution_count": null,
   "metadata": {},
   "outputs": [
    {
     "name": "stdout",
     "output_type": "stream",
     "text": [
      "['C:/Users/spark/CMPE 132 Project/CMPE132Project/Dataset/Train\\\\ARP_Spoofing_train.pcap.csv', 'C:/Users/spark/CMPE 132 Project/CMPE132Project/Dataset/Train\\\\Benign_train.pcap.csv', 'C:/Users/spark/CMPE 132 Project/CMPE132Project/Dataset/Train\\\\MQTT-DDoS-Connect_Flood_train.pcap.csv', 'C:/Users/spark/CMPE 132 Project/CMPE132Project/Dataset/Train\\\\MQTT-DDoS-Publish_Flood_train.pcap.csv', 'C:/Users/spark/CMPE 132 Project/CMPE132Project/Dataset/Train\\\\MQTT-DoS-Connect_Flood_train.pcap.csv', 'C:/Users/spark/CMPE 132 Project/CMPE132Project/Dataset/Train\\\\MQTT-DoS-Publish_Flood_train.pcap.csv', 'C:/Users/spark/CMPE 132 Project/CMPE132Project/Dataset/Train\\\\MQTT-Malformed_Data_train.pcap.csv', 'C:/Users/spark/CMPE 132 Project/CMPE132Project/Dataset/Train\\\\Recon-OS_Scan_train.pcap.csv', 'C:/Users/spark/CMPE 132 Project/CMPE132Project/Dataset/Train\\\\Recon-Ping_Sweep_train.pcap.csv', 'C:/Users/spark/CMPE 132 Project/CMPE132Project/Dataset/Train\\\\Recon-Port_Scan_train.pcap.csv', 'C:/Users/spark/CMPE 132 Project/CMPE132Project/Dataset/Train\\\\Recon-VulScan_train.pcap.csv', 'C:/Users/spark/CMPE 132 Project/CMPE132Project/Dataset/Train\\\\TCP_IP-DDoS-ICMP1_train.pcap.csv', 'C:/Users/spark/CMPE 132 Project/CMPE132Project/Dataset/Train\\\\TCP_IP-DDoS-ICMP2_train.pcap.csv', 'C:/Users/spark/CMPE 132 Project/CMPE132Project/Dataset/Train\\\\TCP_IP-DDoS-ICMP3_train.pcap.csv', 'C:/Users/spark/CMPE 132 Project/CMPE132Project/Dataset/Train\\\\TCP_IP-DDoS-ICMP4_train.pcap.csv', 'C:/Users/spark/CMPE 132 Project/CMPE132Project/Dataset/Train\\\\TCP_IP-DDoS-ICMP5_train.pcap.csv', 'C:/Users/spark/CMPE 132 Project/CMPE132Project/Dataset/Train\\\\TCP_IP-DDoS-ICMP6_train.pcap.csv', 'C:/Users/spark/CMPE 132 Project/CMPE132Project/Dataset/Train\\\\TCP_IP-DDoS-ICMP7_train.pcap.csv', 'C:/Users/spark/CMPE 132 Project/CMPE132Project/Dataset/Train\\\\TCP_IP-DDoS-ICMP8_train.pcap.csv', 'C:/Users/spark/CMPE 132 Project/CMPE132Project/Dataset/Train\\\\TCP_IP-DDoS-SYN1_train.pcap.csv', 'C:/Users/spark/CMPE 132 Project/CMPE132Project/Dataset/Train\\\\TCP_IP-DDoS-SYN2_train.pcap.csv', 'C:/Users/spark/CMPE 132 Project/CMPE132Project/Dataset/Train\\\\TCP_IP-DDoS-SYN3_train.pcap.csv', 'C:/Users/spark/CMPE 132 Project/CMPE132Project/Dataset/Train\\\\TCP_IP-DDoS-SYN4_train.pcap.csv', 'C:/Users/spark/CMPE 132 Project/CMPE132Project/Dataset/Train\\\\TCP_IP-DDoS-TCP1_train.pcap.csv', 'C:/Users/spark/CMPE 132 Project/CMPE132Project/Dataset/Train\\\\TCP_IP-DDoS-TCP2_train.pcap.csv', 'C:/Users/spark/CMPE 132 Project/CMPE132Project/Dataset/Train\\\\TCP_IP-DDoS-TCP3_train.pcap.csv', 'C:/Users/spark/CMPE 132 Project/CMPE132Project/Dataset/Train\\\\TCP_IP-DDoS-TCP4_train.pcap.csv', 'C:/Users/spark/CMPE 132 Project/CMPE132Project/Dataset/Train\\\\TCP_IP-DDoS-UDP1_train.pcap.csv', 'C:/Users/spark/CMPE 132 Project/CMPE132Project/Dataset/Train\\\\TCP_IP-DDoS-UDP2_train.pcap.csv', 'C:/Users/spark/CMPE 132 Project/CMPE132Project/Dataset/Train\\\\TCP_IP-DDoS-UDP3_train.pcap.csv', 'C:/Users/spark/CMPE 132 Project/CMPE132Project/Dataset/Train\\\\TCP_IP-DDoS-UDP4_train.pcap.csv', 'C:/Users/spark/CMPE 132 Project/CMPE132Project/Dataset/Train\\\\TCP_IP-DDoS-UDP5_train.pcap.csv', 'C:/Users/spark/CMPE 132 Project/CMPE132Project/Dataset/Train\\\\TCP_IP-DDoS-UDP6_train.pcap.csv', 'C:/Users/spark/CMPE 132 Project/CMPE132Project/Dataset/Train\\\\TCP_IP-DDoS-UDP7_train.pcap.csv', 'C:/Users/spark/CMPE 132 Project/CMPE132Project/Dataset/Train\\\\TCP_IP-DDoS-UDP8_train.pcap.csv', 'C:/Users/spark/CMPE 132 Project/CMPE132Project/Dataset/Train\\\\TCP_IP-DoS-ICMP1_train.pcap.csv', 'C:/Users/spark/CMPE 132 Project/CMPE132Project/Dataset/Train\\\\TCP_IP-DoS-ICMP2_train.pcap.csv', 'C:/Users/spark/CMPE 132 Project/CMPE132Project/Dataset/Train\\\\TCP_IP-DoS-ICMP3_train.pcap.csv', 'C:/Users/spark/CMPE 132 Project/CMPE132Project/Dataset/Train\\\\TCP_IP-DoS-ICMP4_train.pcap.csv', 'C:/Users/spark/CMPE 132 Project/CMPE132Project/Dataset/Train\\\\TCP_IP-DoS-SYN1_train.pcap.csv', 'C:/Users/spark/CMPE 132 Project/CMPE132Project/Dataset/Train\\\\TCP_IP-DoS-SYN2_train.pcap.csv', 'C:/Users/spark/CMPE 132 Project/CMPE132Project/Dataset/Train\\\\TCP_IP-DoS-SYN3_train.pcap.csv', 'C:/Users/spark/CMPE 132 Project/CMPE132Project/Dataset/Train\\\\TCP_IP-DoS-SYN4_train.pcap.csv', 'C:/Users/spark/CMPE 132 Project/CMPE132Project/Dataset/Train\\\\TCP_IP-DoS-TCP1_train.pcap.csv', 'C:/Users/spark/CMPE 132 Project/CMPE132Project/Dataset/Train\\\\TCP_IP-DoS-TCP2_train.pcap.csv', 'C:/Users/spark/CMPE 132 Project/CMPE132Project/Dataset/Train\\\\TCP_IP-DoS-TCP3_train.pcap.csv', 'C:/Users/spark/CMPE 132 Project/CMPE132Project/Dataset/Train\\\\TCP_IP-DoS-TCP4_train.pcap.csv', 'C:/Users/spark/CMPE 132 Project/CMPE132Project/Dataset/Train\\\\TCP_IP-DoS-UDP1_train.pcap.csv', 'C:/Users/spark/CMPE 132 Project/CMPE132Project/Dataset/Train\\\\TCP_IP-DoS-UDP2_train.pcap.csv', 'C:/Users/spark/CMPE 132 Project/CMPE132Project/Dataset/Train\\\\TCP_IP-DoS-UDP3_train.pcap.csv', 'C:/Users/spark/CMPE 132 Project/CMPE132Project/Dataset/Train\\\\TCP_IP-DoS-UDP4_train.pcap.csv']\n"
     ]
    },
    {
     "ename": "ValueError",
     "evalue": "Length of values (2) does not match length of index (16047)",
     "output_type": "error",
     "traceback": [
      "\u001b[31m---------------------------------------------------------------------------\u001b[39m",
      "\u001b[31mValueError\u001b[39m                                Traceback (most recent call last)",
      "\u001b[36mCell\u001b[39m\u001b[36m \u001b[39m\u001b[32mIn[3]\u001b[39m\u001b[32m, line 25\u001b[39m\n\u001b[32m     21\u001b[39m attack_type = filename.split(\u001b[33m\"\u001b[39m\u001b[33m_train.pcap.csv\u001b[39m\u001b[33m\"\u001b[39m)\n\u001b[32m     23\u001b[39m df = pd.read_csv(file)\n\u001b[32m---> \u001b[39m\u001b[32m25\u001b[39m \u001b[43mdf\u001b[49m\u001b[43m[\u001b[49m\u001b[33;43m'\u001b[39;49m\u001b[33;43mlabel\u001b[39;49m\u001b[33;43m'\u001b[39;49m\u001b[43m]\u001b[49m = attack_type\n\u001b[32m     27\u001b[39m df.head(\u001b[32m10\u001b[39m)\n\u001b[32m     28\u001b[39m dataframes.append(df)\n",
      "\u001b[36mFile \u001b[39m\u001b[32mc:\\Users\\spark\\AppData\\Local\\Programs\\Python\\Python313\\Lib\\site-packages\\pandas\\core\\frame.py:4311\u001b[39m, in \u001b[36mDataFrame.__setitem__\u001b[39m\u001b[34m(self, key, value)\u001b[39m\n\u001b[32m   4308\u001b[39m     \u001b[38;5;28mself\u001b[39m._setitem_array([key], value)\n\u001b[32m   4309\u001b[39m \u001b[38;5;28;01melse\u001b[39;00m:\n\u001b[32m   4310\u001b[39m     \u001b[38;5;66;03m# set column\u001b[39;00m\n\u001b[32m-> \u001b[39m\u001b[32m4311\u001b[39m     \u001b[38;5;28;43mself\u001b[39;49m\u001b[43m.\u001b[49m\u001b[43m_set_item\u001b[49m\u001b[43m(\u001b[49m\u001b[43mkey\u001b[49m\u001b[43m,\u001b[49m\u001b[43m \u001b[49m\u001b[43mvalue\u001b[49m\u001b[43m)\u001b[49m\n",
      "\u001b[36mFile \u001b[39m\u001b[32mc:\\Users\\spark\\AppData\\Local\\Programs\\Python\\Python313\\Lib\\site-packages\\pandas\\core\\frame.py:4524\u001b[39m, in \u001b[36mDataFrame._set_item\u001b[39m\u001b[34m(self, key, value)\u001b[39m\n\u001b[32m   4514\u001b[39m \u001b[38;5;28;01mdef\u001b[39;00m\u001b[38;5;250m \u001b[39m\u001b[34m_set_item\u001b[39m(\u001b[38;5;28mself\u001b[39m, key, value) -> \u001b[38;5;28;01mNone\u001b[39;00m:\n\u001b[32m   4515\u001b[39m \u001b[38;5;250m    \u001b[39m\u001b[33;03m\"\"\"\u001b[39;00m\n\u001b[32m   4516\u001b[39m \u001b[33;03m    Add series to DataFrame in specified column.\u001b[39;00m\n\u001b[32m   4517\u001b[39m \n\u001b[32m   (...)\u001b[39m\u001b[32m   4522\u001b[39m \u001b[33;03m    ensure homogeneity.\u001b[39;00m\n\u001b[32m   4523\u001b[39m \u001b[33;03m    \"\"\"\u001b[39;00m\n\u001b[32m-> \u001b[39m\u001b[32m4524\u001b[39m     value, refs = \u001b[38;5;28;43mself\u001b[39;49m\u001b[43m.\u001b[49m\u001b[43m_sanitize_column\u001b[49m\u001b[43m(\u001b[49m\u001b[43mvalue\u001b[49m\u001b[43m)\u001b[49m\n\u001b[32m   4526\u001b[39m     \u001b[38;5;28;01mif\u001b[39;00m (\n\u001b[32m   4527\u001b[39m         key \u001b[38;5;129;01min\u001b[39;00m \u001b[38;5;28mself\u001b[39m.columns\n\u001b[32m   4528\u001b[39m         \u001b[38;5;129;01mand\u001b[39;00m value.ndim == \u001b[32m1\u001b[39m\n\u001b[32m   4529\u001b[39m         \u001b[38;5;129;01mand\u001b[39;00m \u001b[38;5;129;01mnot\u001b[39;00m \u001b[38;5;28misinstance\u001b[39m(value.dtype, ExtensionDtype)\n\u001b[32m   4530\u001b[39m     ):\n\u001b[32m   4531\u001b[39m         \u001b[38;5;66;03m# broadcast across multiple columns if necessary\u001b[39;00m\n\u001b[32m   4532\u001b[39m         \u001b[38;5;28;01mif\u001b[39;00m \u001b[38;5;129;01mnot\u001b[39;00m \u001b[38;5;28mself\u001b[39m.columns.is_unique \u001b[38;5;129;01mor\u001b[39;00m \u001b[38;5;28misinstance\u001b[39m(\u001b[38;5;28mself\u001b[39m.columns, MultiIndex):\n",
      "\u001b[36mFile \u001b[39m\u001b[32mc:\\Users\\spark\\AppData\\Local\\Programs\\Python\\Python313\\Lib\\site-packages\\pandas\\core\\frame.py:5266\u001b[39m, in \u001b[36mDataFrame._sanitize_column\u001b[39m\u001b[34m(self, value)\u001b[39m\n\u001b[32m   5263\u001b[39m     \u001b[38;5;28;01mreturn\u001b[39;00m _reindex_for_setitem(value, \u001b[38;5;28mself\u001b[39m.index)\n\u001b[32m   5265\u001b[39m \u001b[38;5;28;01mif\u001b[39;00m is_list_like(value):\n\u001b[32m-> \u001b[39m\u001b[32m5266\u001b[39m     \u001b[43mcom\u001b[49m\u001b[43m.\u001b[49m\u001b[43mrequire_length_match\u001b[49m\u001b[43m(\u001b[49m\u001b[43mvalue\u001b[49m\u001b[43m,\u001b[49m\u001b[43m \u001b[49m\u001b[38;5;28;43mself\u001b[39;49m\u001b[43m.\u001b[49m\u001b[43mindex\u001b[49m\u001b[43m)\u001b[49m\n\u001b[32m   5267\u001b[39m arr = sanitize_array(value, \u001b[38;5;28mself\u001b[39m.index, copy=\u001b[38;5;28;01mTrue\u001b[39;00m, allow_2d=\u001b[38;5;28;01mTrue\u001b[39;00m)\n\u001b[32m   5268\u001b[39m \u001b[38;5;28;01mif\u001b[39;00m (\n\u001b[32m   5269\u001b[39m     \u001b[38;5;28misinstance\u001b[39m(value, Index)\n\u001b[32m   5270\u001b[39m     \u001b[38;5;129;01mand\u001b[39;00m value.dtype == \u001b[33m\"\u001b[39m\u001b[33mobject\u001b[39m\u001b[33m\"\u001b[39m\n\u001b[32m   (...)\u001b[39m\u001b[32m   5273\u001b[39m     \u001b[38;5;66;03m# TODO: Remove kludge in sanitize_array for string mode when enforcing\u001b[39;00m\n\u001b[32m   5274\u001b[39m     \u001b[38;5;66;03m# this deprecation\u001b[39;00m\n",
      "\u001b[36mFile \u001b[39m\u001b[32mc:\\Users\\spark\\AppData\\Local\\Programs\\Python\\Python313\\Lib\\site-packages\\pandas\\core\\common.py:573\u001b[39m, in \u001b[36mrequire_length_match\u001b[39m\u001b[34m(data, index)\u001b[39m\n\u001b[32m    569\u001b[39m \u001b[38;5;250m\u001b[39m\u001b[33;03m\"\"\"\u001b[39;00m\n\u001b[32m    570\u001b[39m \u001b[33;03mCheck the length of data matches the length of the index.\u001b[39;00m\n\u001b[32m    571\u001b[39m \u001b[33;03m\"\"\"\u001b[39;00m\n\u001b[32m    572\u001b[39m \u001b[38;5;28;01mif\u001b[39;00m \u001b[38;5;28mlen\u001b[39m(data) != \u001b[38;5;28mlen\u001b[39m(index):\n\u001b[32m--> \u001b[39m\u001b[32m573\u001b[39m     \u001b[38;5;28;01mraise\u001b[39;00m \u001b[38;5;167;01mValueError\u001b[39;00m(\n\u001b[32m    574\u001b[39m         \u001b[33m\"\u001b[39m\u001b[33mLength of values \u001b[39m\u001b[33m\"\u001b[39m\n\u001b[32m    575\u001b[39m         \u001b[33mf\u001b[39m\u001b[33m\"\u001b[39m\u001b[33m(\u001b[39m\u001b[38;5;132;01m{\u001b[39;00m\u001b[38;5;28mlen\u001b[39m(data)\u001b[38;5;132;01m}\u001b[39;00m\u001b[33m) \u001b[39m\u001b[33m\"\u001b[39m\n\u001b[32m    576\u001b[39m         \u001b[33m\"\u001b[39m\u001b[33mdoes not match length of index \u001b[39m\u001b[33m\"\u001b[39m\n\u001b[32m    577\u001b[39m         \u001b[33mf\u001b[39m\u001b[33m\"\u001b[39m\u001b[33m(\u001b[39m\u001b[38;5;132;01m{\u001b[39;00m\u001b[38;5;28mlen\u001b[39m(index)\u001b[38;5;132;01m}\u001b[39;00m\u001b[33m)\u001b[39m\u001b[33m\"\u001b[39m\n\u001b[32m    578\u001b[39m     )\n",
      "\u001b[31mValueError\u001b[39m: Length of values (2) does not match length of index (16047)"
     ]
    }
   ],
   "source": [
    "import pandas as pd \n",
    "import os\n",
    "import glob\n",
    "\n",
    "#get directory folder of test csv files (make sure to replace with path on your computer)\n",
    "data_dir = r\"C:\\Users\\spark\\CMPE 132 Project\\CMPE132Project\\Dataset\\Train\".replace(\"\\\\\", \"/\")\n",
    "\n",
    "#store paths of all csv files in the folder\n",
    "csv_files = glob.glob(os.path.join(data_dir, \"*.csv\"))\n",
    "print(csv_files)\n",
    "\n",
    "#list to store csv files as dataframes\n",
    "dataframes = []\n",
    "\n",
    "#create dataframes for each csv with column to label the class type\n",
    "#get filename from path\n",
    "for file in csv_files:\n",
    "    filename = os.path.basename(file)\n",
    "\n",
    "    #split the file name to get the \n",
    "    attack_type = filename.split(\"_train.pcap.csv\")[0]\n",
    "\n",
    "    df = pd.read_csv(file)\n",
    "\n",
    "    df['label'] = attack_type\n",
    "\n",
    "    df.head(10)\n",
    "    dataframes.append(df)\n"
   ]
  }
 ],
 "metadata": {
  "kernelspec": {
   "display_name": "Python 3",
   "language": "python",
   "name": "python3"
  },
  "language_info": {
   "codemirror_mode": {
    "name": "ipython",
    "version": 3
   },
   "file_extension": ".py",
   "mimetype": "text/x-python",
   "name": "python",
   "nbconvert_exporter": "python",
   "pygments_lexer": "ipython3",
   "version": "3.13.2"
  }
 },
 "nbformat": 4,
 "nbformat_minor": 2
}
