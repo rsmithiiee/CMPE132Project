{
  "cells": [
    {
      "cell_type": "markdown",
      "metadata": {
        "id": "tmRRB6jExI9b"
      },
      "source": [
        "# Healthcare IoT Device Network Intrusion Detection System"
      ]
    },
    {
      "cell_type": "markdown",
      "metadata": {
        "id": "C6jQla4ixI9c"
      },
      "source": [
        "### Dataframe Creation"
      ]
    },
    {
      "cell_type": "code",
      "execution_count": null,
      "metadata": {
        "colab": {
          "base_uri": "https://localhost:8080/"
        },
        "id": "oHU72SbdxI9d",
        "outputId": "e8b736e8-349f-4ce9-c057-3d5b8981a4f7"
      },
      "outputs": [],
      "source": [
        "import pandas as pd\n",
        "import os\n",
        "import glob\n",
        "import gc\n",
        "\n",
        "# options to see all columns in dataframes\n",
        "pd.set_option(\"display.max_columns\", None)\n",
        "\n",
        "# get directory folder of train and test csv files (make sure to replace with path on your computer)\n",
        "train_dir = r\"C:\\Users\\spark\\CMPE 132 Project\\CMPE132Project\\Dataset\\Train\".replace(\n",
        "    \"\\\\\", \"/\"\n",
        ")\n",
        "test_dir = r\"C:\\Users\\spark\\CMPE 132 Project\\CMPE132Project\\Dataset\\Test\".replace(\n",
        "    \"\\\\\", \"/\"\n",
        ")\n",
        "\n",
        "# store paths of all csv files in the folder in a list\n",
        "train_csv_files = glob.glob(os.path.join(train_dir, \"*.csv\"))\n",
        "test_csv_files = glob.glob(os.path.join(test_dir, \"*.csv\"))\n",
        "\n",
        "# list to store csv files as dataframes\n",
        "train_dataframes = []\n",
        "test_dataframes = []\n",
        "\n",
        "# create dataframes for each csv with column to label the class type\n",
        "# get filename from path\n",
        "for file in train_csv_files:\n",
        "    filename = os.path.basename(file)\n",
        "\n",
        "    # split the file name to get the class of the attack\n",
        "    attack_type = filename.split(\"_train.pcap.csv\")[0]\n",
        "\n",
        "    # since some attacks are split into multiple files we need to remove numbers from the string\n",
        "    # if last character is a number we remove it to get the name of the attack type\n",
        "    if attack_type[-1].isdigit():\n",
        "        attack_type = attack_type[:-1]\n",
        "\n",
        "    # create a dataframe for the specific csv file\n",
        "    df = pd.read_csv(file)\n",
        "\n",
        "    # create a new column to classify the attack type in that csv file\n",
        "    df[\"classification\"] = attack_type\n",
        "\n",
        "    # append the dataframe to the dataframes list\n",
        "    train_dataframes.append(df)\n",
        "\n",
        "    # delete the dataframe\n",
        "    del df\n",
        "\n",
        "# do the same for the test data\n",
        "for file in test_csv_files:\n",
        "    filename = os.path.basename(file)\n",
        "\n",
        "    # split the file name to get the class of the attack\n",
        "    attack_type = filename.split(\"_test.pcap.csv\")[0]\n",
        "\n",
        "    # since some attacks are split into multiple files we need to remove numbers from the string\n",
        "    # if last character is a number we remove it to get the name of the attack type\n",
        "    if attack_type[-1].isdigit():\n",
        "        attack_type = attack_type[:-1]\n",
        "\n",
        "    # create a dataframe for the specific csv file\n",
        "    df = pd.read_csv(file)\n",
        "\n",
        "    # create a new column to classify the attack type in that csv file\n",
        "    df[\"classification\"] = attack_type\n",
        "\n",
        "    # append the dataframe to the dataframes list\n",
        "    test_dataframes.append(df)\n",
        "\n",
        "    # delete the dataframe\n",
        "    del df\n",
        "\n",
        "\n",
        "# combine all of the dataframes into one\n",
        "train_df = pd.concat(train_dataframes, ignore_index=True)\n",
        "test_df = pd.concat(test_dataframes, ignore_index=True)\n",
        "\n",
        "print(train_df[\"classification\"].value_counts())\n",
        "\n",
        "# downsample to a certain fraction of random samples per class depending on how many rows in the class\n",
        "# if smaller class don't cut out rows\n",
        "result_dfs = []\n",
        "for class_name, group in train_df.groupby(\"classification\"):\n",
        "    if len(group) > 500000:\n",
        "        result_dfs.append(group.sample(frac=0.01, random_state=42))\n",
        "    elif len(group) > 100000:\n",
        "        result_dfs.append(group.sample(frac=0.1, random_state=42))\n",
        "    elif len(group) > 10000:\n",
        "        result_dfs.append(group.sample(frac=0.2, random_state=42))\n",
        "    else:\n",
        "        result_dfs.append(group)\n",
        "train_df = pd.concat(result_dfs, ignore_index=True)\n",
        "\n",
        "print(train_df[\"classification\"].value_counts())\n",
        "print(test_df[\"classification\"].value_counts())\n",
        "\n",
        "del train_dataframes\n",
        "del test_dataframes\n",
        "\n",
        "gc.collect()"
      ]
    },
    {
      "cell_type": "markdown",
      "metadata": {
        "id": "N3Z-N421xI9e"
      },
      "source": [
        "### Data Preprocessing"
      ]
    },
    {
      "cell_type": "code",
      "execution_count": null,
      "metadata": {
        "id": "JTnox9_QxI9e"
      },
      "outputs": [],
      "source": [
        "from sklearn.preprocessing import StandardScaler\n",
        "from sklearn.decomposition import PCA\n",
        "\n",
        "# create training and testing data from the dataframes made earlier\n",
        "X_train = train_df.drop(columns=[\"classification\"])\n",
        "y_train = train_df[\"classification\"]\n",
        "\n",
        "X_test = test_df.drop(columns=[\"classification\"])\n",
        "y_test = test_df[\"classification\"]\n",
        "\n",
        "# standardize features\n",
        "scaler = StandardScaler()\n",
        "X_train_scaled = scaler.fit_transform(X_train)\n",
        "X_test_scaled = scaler.transform(X_test)\n",
        "\n",
        "# use PCA to reduce feature\n",
        "pca = PCA(n_components=0.95)\n",
        "X_train_pca = pca.fit_transform(X_train_scaled)\n",
        "X_test_pca = pca.transform(X_test_scaled)\n",
        "\n",
        "print(f\"Reduced number of features after PCA: {X_train_pca.shape[1]}\")\n"
      ]
    },
    {
      "cell_type": "markdown",
      "metadata": {
        "id": "_qJ9R5eB3CCe"
      },
      "source": [
        "### Random Forest Classifier Training"
      ]
    },
    {
      "cell_type": "code",
      "execution_count": null,
      "metadata": {},
      "outputs": [],
      "source": [
        "from sklearn.ensemble import RandomForestClassifier\n",
        "from sklearn.metrics import classification_report\n",
        "from sklearn.model_selection import RandomizedSearchCV"
      ]
    },
    {
      "cell_type": "code",
      "execution_count": null,
      "metadata": {
        "id": "kiTLs2YY3Ih-"
      },
      "outputs": [],
      "source": [
        "# train random forest classifier model\n",
        "rf = RandomForestClassifier(random_state=42, n_jobs=7)\n",
        "rf.fit(X_train_pca, y_train)"
      ]
    },
    {
      "cell_type": "markdown",
      "metadata": {},
      "source": [
        "### Accuracy of Random Forest Classifier Model"
      ]
    },
    {
      "cell_type": "code",
      "execution_count": null,
      "metadata": {},
      "outputs": [],
      "source": [
        "# check accuracy of model\n",
        "y_pred = rf.predict(X_test_pca)\n",
        "print(\"\\nClassification Report:\\n\", classification_report(y_test, y_pred))"
      ]
    },
    {
      "cell_type": "markdown",
      "metadata": {},
      "source": [
        "### Optimizing the Random Forest Classifier"
      ]
    },
    {
      "cell_type": "code",
      "execution_count": null,
      "metadata": {},
      "outputs": [],
      "source": [
        "# parameters to search through\n",
        "params_grid = {\n",
        "    \"n_estimators\": [100, 200, 300, 400, 500],\n",
        "    \"max_depth\": [None, 10, 20, 30, 40],\n",
        "    \"min_samples_split\": [2, 4, 8],\n",
        "    \"min_samples_leaf\": [1, 2, 4],\n",
        "    \"max_features\": [\"sqrt\", \"log2\", None],\n",
        "    \"class_weight\": [None, \"balanced\"],\n",
        "}\n",
        "\n",
        "# initialize RandomizedSearchCV object\n",
        "rf_randomized_search = RandomizedSearchCV(\n",
        "    estimator=rf,\n",
        "    param_distributions=params_grid,\n",
        "    n_iter=10,\n",
        "    cv=5,\n",
        "    random_state=42,\n",
        "    n_jobs=7,\n",
        "    verbose=2,\n",
        "    scoring=\"f1_macro\",\n",
        ")\n",
        "# start search on hyper parameters\n",
        "search = rf_randomized_search.fit(X_train_pca, y_train)\n"
      ]
    },
    {
      "cell_type": "code",
      "execution_count": null,
      "metadata": {},
      "outputs": [],
      "source": [
        "# get best parameters from randomized search cv\n",
        "print(f\"best estimator: {search.best_estimator_}\")\n",
        "print(f\"best parameters: {search.best_params_}\")\n",
        "\n",
        "# get classification report from best model\n",
        "y_pred = search.best_estimator_.predict(X_test_pca)\n",
        "print(print(\"\\nClassification Report:\\n\", classification_report(y_test, y_pred)))"
      ]
    },
    {
      "cell_type": "markdown",
      "metadata": {},
      "source": [
        "### Gradient Boosting Classifier Training"
      ]
    },
    {
      "cell_type": "code",
      "execution_count": null,
      "metadata": {},
      "outputs": [],
      "source": [
        "from sklearn.ensemble import HistGradientBoostingClassifier\n",
        "from sklearn.metrics import classification_report"
      ]
    },
    {
      "cell_type": "code",
      "execution_count": null,
      "metadata": {},
      "outputs": [],
      "source": [
        "# train gradient boosting classifier model\n",
        "os.environ[\"LOKY_MAX_CPU_COUNT\"] = \"7\"\n",
        "\n",
        "hgbc = HistGradientBoostingClassifier(random_state=42)\n",
        "hgbc.fit(X_train_pca, y_train)"
      ]
    },
    {
      "cell_type": "markdown",
      "metadata": {},
      "source": [
        "### Accuracy of Gradient Boosting Classifier Model"
      ]
    },
    {
      "cell_type": "code",
      "execution_count": null,
      "metadata": {},
      "outputs": [],
      "source": [
        "# check accuracy of gradient boosting classifier model\n",
        "\n",
        "y_pred = hgbc.predict(X_test_pca)\n",
        "print(\"\\nClassification Report:\\n\", classification_report(y_test, y_pred))"
      ]
    },
    {
      "cell_type": "markdown",
      "metadata": {},
      "source": [
        "### Optimizing Gradient Boosting Classifier Model"
      ]
    },
    {
      "cell_type": "markdown",
      "metadata": {},
      "source": [
        "### Multi-layer Perceptron (MLP) Classifier Training"
      ]
    },
    {
      "cell_type": "code",
      "execution_count": null,
      "metadata": {},
      "outputs": [],
      "source": [
        "from sklearn.neural_network import MLPClassifier\n",
        "from sklearn.metrics import classification_report"
      ]
    },
    {
      "cell_type": "code",
      "execution_count": null,
      "metadata": {},
      "outputs": [],
      "source": [
        "# train MLP model\n",
        "mlpc = MLPClassifier(random_state=42)\n",
        "mlpc.fit(X_train_pca, y_train)"
      ]
    },
    {
      "cell_type": "markdown",
      "metadata": {},
      "source": [
        "### Accuracy of MLP Classifier Model"
      ]
    },
    {
      "cell_type": "code",
      "execution_count": null,
      "metadata": {},
      "outputs": [],
      "source": [
        "# check accuracy of MLP neural network\n",
        "y_pred = mlpc.predict(X_test_pca)\n",
        "print(\"\\nClassification Report:\\n\", classification_report(y_test, y_pred))"
      ]
    },
    {
      "cell_type": "markdown",
      "metadata": {},
      "source": [
        "### Optimizing MLP Classifier Model"
      ]
    }
  ],
  "metadata": {
    "colab": {
      "provenance": []
    },
    "kernelspec": {
      "display_name": "Python 3",
      "language": "python",
      "name": "python3"
    },
    "language_info": {
      "codemirror_mode": {
        "name": "ipython",
        "version": 3
      },
      "file_extension": ".py",
      "mimetype": "text/x-python",
      "name": "python",
      "nbconvert_exporter": "python",
      "pygments_lexer": "ipython3",
      "version": "3.13.2"
    }
  },
  "nbformat": 4,
  "nbformat_minor": 0
}
