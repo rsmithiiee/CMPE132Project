{
  "cells": [
    {
      "cell_type": "markdown",
      "metadata": {
        "id": "tmRRB6jExI9b"
      },
      "source": [
        "# Healthcare IoT Device Network Intrusion Detection System"
      ]
    },
    {
      "cell_type": "markdown",
      "metadata": {
        "id": "C6jQla4ixI9c"
      },
      "source": [
        "### Creating the dataframes"
      ]
    },
    {
      "cell_type": "code",
      "execution_count": null,
      "metadata": {
        "colab": {
          "base_uri": "https://localhost:8080/"
        },
        "id": "oHU72SbdxI9d",
        "outputId": "e8b736e8-349f-4ce9-c057-3d5b8981a4f7"
      },
      "outputs": [],
      "source": [
        "import pandas as pd\n",
        "import os\n",
        "import glob\n",
        "\n",
        "# options to see all columns in dataframes\n",
        "pd.set_option(\"display.max_columns\", None)\n",
        "\n",
        "# get directory folder of train and test csv files (make sure to replace with path on your computer)\n",
        "train_dir = r\"C:\\Users\\spark\\CMPE 132 Project\\CMPE132Project\\Dataset\\Train\".replace(\n",
        "    \"\\\\\", \"/\"\n",
        ")\n",
        "test_dir = r\"C:\\Users\\spark\\CMPE 132 Project\\CMPE132Project\\Dataset\\Test\".replace(\n",
        "    \"\\\\\", \"/\"\n",
        ")\n",
        "\n",
        "# store paths of all csv files in the folder in a list\n",
        "train_csv_files = glob.glob(os.path.join(train_dir, \"*.csv\"))\n",
        "test_csv_files = glob.glob(os.path.join(test_dir, \"*.csv\"))\n",
        "\n",
        "# list to store csv files as dataframes\n",
        "train_dataframes = []\n",
        "test_dataframes = []\n",
        "\n",
        "# create dataframes for each csv with column to label the class type\n",
        "# get filename from path\n",
        "for file in train_csv_files:\n",
        "    filename = os.path.basename(file)\n",
        "\n",
        "    # split the file name to get the class of the attack\n",
        "    attack_type = filename.split(\"_train.pcap.csv\")[0]\n",
        "\n",
        "    # since some attacks are split into multiple files we need to remove numbers from the string\n",
        "    # if last character is a number we remove it to get the name of the attack type\n",
        "    if attack_type[-1].isdigit():\n",
        "        attack_type = attack_type[:-1]\n",
        "\n",
        "    # create a dataframe for the specific csv file\n",
        "    df = pd.read_csv(file)\n",
        "\n",
        "    # create a new column to classify the attack type in that csv file\n",
        "    df[\"classification\"] = attack_type\n",
        "\n",
        "    # append the dataframe to the dataframes list\n",
        "    train_dataframes.append(df)\n",
        "\n",
        "    # delete the dataframe\n",
        "    del df\n",
        "\n",
        "# do the same for the test data\n",
        "for file in test_csv_files:\n",
        "    filename = os.path.basename(file)\n",
        "\n",
        "    # split the file name to get the class of the attack\n",
        "    attack_type = filename.split(\"_test.pcap.csv\")[0]\n",
        "\n",
        "    # since some attacks are split into multiple files we need to remove numbers from the string\n",
        "    # if last character is a number we remove it to get the name of the attack type\n",
        "    if attack_type[-1].isdigit():\n",
        "        attack_type = attack_type[:-1]\n",
        "\n",
        "    # create a dataframe for the specific csv file\n",
        "    df = pd.read_csv(file)\n",
        "\n",
        "    # create a new column to classify the attack type in that csv file\n",
        "    df[\"classification\"] = attack_type\n",
        "\n",
        "    # append the dataframe to the dataframes list\n",
        "    test_dataframes.append(df)\n",
        "\n",
        "    # delete the dataframe\n",
        "    del df\n",
        "\n",
        "\n",
        "# combine all of the dataframes into one\n",
        "train_df = pd.concat(train_dataframes, ignore_index=True)\n",
        "test_df = pd.concat(test_dataframes, ignore_index=True)\n",
        "\n",
        "# downsample to a certain fraction of random samples per class depending on how many rows in the class\n",
        "# if smaller class don't cut out rows or if normal traffic don't cut out\n",
        "result_dfs = []\n",
        "for class_name, group in train_df.groupby(\"classification\"):\n",
        "    if len(group) > 10000 and class_name.lower() != \"benign\":\n",
        "        result_dfs.append(group.sample(n=1000, random_state=42))\n",
        "    elif class_name.lower() == \"benign\":\n",
        "        result_dfs.append(group.sample(n=2000, random_state=42))\n",
        "    else:\n",
        "        result_dfs.append(group)\n",
        "train_df = pd.concat(result_dfs, ignore_index=True)\n",
        "\n",
        "# add binary label to the training and testing dataframe in order to test binary classification as well\n",
        "train_df[\"binary_classification\"] = train_df[\"classification\"].apply(\n",
        "    lambda binary: 0 if binary.lower() == \"benign\" else 1\n",
        ")\n",
        "test_df[\"binary_classification\"] = test_df[\"classification\"].apply(\n",
        "    lambda binary: 0 if binary.lower() == \"benign\" else 1\n",
        ")\n",
        "\n",
        "print(train_df[\"classification\"].value_counts())\n",
        "print(train_df[\"binary_classification\"].value_counts())\n",
        "print(test_df[\"binary_classification\"].value_counts())\n",
        "\n",
        "print(f\"rows in training dataset: {train_df.shape[0]}\")\n",
        "print(f\"rows in testing dataset: {test_df.shape[0]}\")"
      ]
    },
    {
      "cell_type": "markdown",
      "metadata": {
        "id": "N3Z-N421xI9e"
      },
      "source": [
        "### Data Preprocessing"
      ]
    },
    {
      "cell_type": "code",
      "execution_count": null,
      "metadata": {
        "id": "JTnox9_QxI9e"
      },
      "outputs": [],
      "source": [
        "from sklearn.preprocessing import StandardScaler\n",
        "from sklearn.decomposition import PCA\n",
        "\n",
        "# create training and testing data from the dataframes made earlier\n",
        "# must drop the classification rows in order to work with the feature data\n",
        "# create both y training and testing data for multi class classification and binary classification\n",
        "X_train = train_df.drop(columns=[\"classification\", \"binary_classification\"])\n",
        "y_train_multi = train_df[\"classification\"]\n",
        "y_train_binary = train_df[\"binary_classification\"]\n",
        "\n",
        "X_test = test_df.drop(columns=[\"classification\", \"binary_classification\"])\n",
        "y_test_multi = test_df[\"classification\"]\n",
        "y_test_binary = test_df[\"binary_classification\"]\n",
        "\n",
        "# standardize features\n",
        "scaler = StandardScaler()\n",
        "X_train_scaled = scaler.fit_transform(X_train)\n",
        "X_test_scaled = scaler.transform(X_test)\n",
        "\n",
        "# use PCA to reduce feature\n",
        "pca = PCA(n_components=0.95)\n",
        "X_train_pca = pca.fit_transform(X_train_scaled)\n",
        "X_test_pca = pca.transform(X_test_scaled)\n",
        "\n",
        "print(f\"Reduced number of features after PCA: {X_train_pca.shape[1]}\")\n",
        "\n",
        "del X_train, X_test, X_train_scaled, X_test_scaled"
      ]
    },
    {
      "cell_type": "markdown",
      "metadata": {
        "id": "_qJ9R5eB3CCe"
      },
      "source": [
        "### Random Forest Classifier Training"
      ]
    },
    {
      "cell_type": "code",
      "execution_count": null,
      "metadata": {},
      "outputs": [],
      "source": [
        "from sklearn.ensemble import RandomForestClassifier\n",
        "from sklearn.metrics import classification_report\n",
        "from sklearn.model_selection import RandomizedSearchCV"
      ]
    },
    {
      "cell_type": "code",
      "execution_count": null,
      "metadata": {
        "id": "kiTLs2YY3Ih-"
      },
      "outputs": [],
      "source": [
        "# train random forest classifier model\n",
        "# create two different RF classifiers, one to fit the multi class classification data\n",
        "# and one to fit the binary classification data\n",
        "rf_multi = RandomForestClassifier(random_state=42, n_jobs=12)\n",
        "rf_binary = RandomForestClassifier(random_state=42, n_jobs=12)\n",
        "\n",
        "rf_multi.fit(X_train_pca, y_train_multi)\n",
        "rf_binary.fit(X_train_pca, y_train_binary)"
      ]
    },
    {
      "cell_type": "markdown",
      "metadata": {},
      "source": [
        "#### Accuracy of Random Forest Classifier Model"
      ]
    },
    {
      "cell_type": "code",
      "execution_count": null,
      "metadata": {},
      "outputs": [],
      "source": [
        "# check accuracy of model\n",
        "rf_y_pred_multi = rf_multi.predict(X_test_pca)\n",
        "rf_y_pred_binary = rf_binary.predict(X_test_pca)\n",
        "\n",
        "print(\n",
        "    \"\\nClassification Report for Multi-Class Classification:\\n\",\n",
        "    classification_report(y_test_multi, rf_y_pred_multi),\n",
        ")\n",
        "print(\n",
        "    \"\\nClassification Report for Binary Classification:\\n\",\n",
        "    classification_report(y_test_binary, rf_y_pred_binary),\n",
        ")"
      ]
    },
    {
      "cell_type": "markdown",
      "metadata": {},
      "source": [
        "#### Optimizing the Random Forest Classifier"
      ]
    },
    {
      "cell_type": "code",
      "execution_count": null,
      "metadata": {},
      "outputs": [],
      "source": [
        "import numpy as np\n",
        "\n",
        "# parameters to search through\n",
        "rf_params_grid = {\n",
        "    \"n_estimators\": [100, 200, 400, 800],\n",
        "    \"max_depth\": [None, 10, 20, 40, 80],\n",
        "    \"min_samples_split\": [2, 4, 8, 16],\n",
        "    \"min_samples_leaf\": [1, 2, 4, 8],\n",
        "}\n",
        "\n",
        "# initialize RandomizedSearchCV object\n",
        "rf_multi_randomized_search = RandomizedSearchCV(\n",
        "    estimator=rf_multi,\n",
        "    param_distributions=rf_params_grid,\n",
        "    cv=3,\n",
        "    n_iter=10,\n",
        "    random_state=42,\n",
        "    n_jobs=12,\n",
        "    verbose=2,\n",
        "    scoring=\"f1_macro\",\n",
        ")\n",
        "rf_binary_randomized_search = RandomizedSearchCV(\n",
        "    estimator=rf_binary,\n",
        "    param_distributions=rf_params_grid,\n",
        "    cv=3,\n",
        "    n_iter=10,\n",
        "    random_state=42,\n",
        "    n_jobs=12,\n",
        "    verbose=2,\n",
        "    scoring=\"f1_macro\",\n",
        ")\n",
        "\n",
        "# start search on hyper parameters for both binary and multi class classification\n",
        "rf_multi_search = rf_multi_randomized_search.fit(X_train_pca, y_train_multi)\n",
        "rf_binary_search = rf_binary_randomized_search.fit(X_train_pca, y_train_binary)\n"
      ]
    },
    {
      "cell_type": "code",
      "execution_count": null,
      "metadata": {},
      "outputs": [],
      "source": [
        "# print best estimator and best parameters\n",
        "print(\n",
        "    f\"Best estimator for multi class classification: {rf_multi_search.best_estimator_}\"\n",
        ")\n",
        "print(f\"Best parameters for multi class classification: {rf_multi_search.best_params_}\")\n",
        "print(f\"Best estimator for binary classification: {rf_binary_search.best_estimator_}\")\n",
        "print(f\"Best parameters for binary classification: {rf_binary_search.best_params_}\")\n",
        "\n",
        "# print classification report for those parameters for both multi class and binary classification\n",
        "rf_y_pred_multi_random_search = rf_multi_search.predict(X_test_pca)\n",
        "rf_y_pred_binary_random_search = rf_binary_search.predict(X_test_pca)\n",
        "print(\n",
        "    \"\\nClassification Report for RandomizedSearchCV Multi Class Classification:\\n\",\n",
        "    classification_report(y_test_multi, rf_y_pred_multi_random_search),\n",
        ")\n",
        "print(\n",
        "    \"\\nClassification Report for RandomizedSearchCV Binary Classification:\\n\",\n",
        "    classification_report(y_test_binary, rf_y_pred_binary_random_search),\n",
        ")"
      ]
    },
    {
      "cell_type": "markdown",
      "metadata": {},
      "source": [
        "### Gradient Boosting Classifier Training"
      ]
    },
    {
      "cell_type": "code",
      "execution_count": null,
      "metadata": {},
      "outputs": [],
      "source": [
        "from sklearn.ensemble import HistGradientBoostingClassifier\n",
        "from sklearn.metrics import classification_report\n",
        "from sklearn.model_selection import RandomizedSearchCV"
      ]
    },
    {
      "cell_type": "code",
      "execution_count": null,
      "metadata": {},
      "outputs": [],
      "source": [
        "# train gradient boosting classifier model\n",
        "os.environ[\"LOKY_MAX_CPU_COUNT\"] = \"12\"\n",
        "\n",
        "hgbc_multi = HistGradientBoostingClassifier(random_state=42)\n",
        "hgbc_binary = HistGradientBoostingClassifier(random_state=42)\n",
        "hgbc_multi.fit(X_train_pca, y_train_multi)\n",
        "hgbc_binary.fit(X_train_pca, y_train_binary)"
      ]
    },
    {
      "cell_type": "markdown",
      "metadata": {},
      "source": [
        "#### Accuracy of Gradient Boosting Classifier Model"
      ]
    },
    {
      "cell_type": "code",
      "execution_count": null,
      "metadata": {},
      "outputs": [],
      "source": [
        "# check accuracy of gradient boosting classifier model\n",
        "hgbc_y_pred_multi = hgbc_multi.predict(X_test_pca)\n",
        "hgbc_y_pred_binary = hgbc_binary.predict(X_test_pca)\n",
        "print(\n",
        "    \"\\nClassification Report for RandomizedSearchCV Multi Class Classification:\\n\",\n",
        "    classification_report(y_test_multi, hgbc_y_pred_multi),\n",
        ")\n",
        "print(\n",
        "    \"\\nClassification Report for RandomizedSearchCV Binary Classification:\\n\",\n",
        "    classification_report(y_test_binary, hgbc_y_pred_binary),\n",
        ")"
      ]
    },
    {
      "cell_type": "markdown",
      "metadata": {},
      "source": [
        "#### Optimizing Gradient Boosting Classifier Model"
      ]
    },
    {
      "cell_type": "code",
      "execution_count": null,
      "metadata": {},
      "outputs": [],
      "source": [
        "import numpy as np\n",
        "\n",
        "# create params grid\n",
        "hgbc_params_grid = {\n",
        "    \"learning_rate\": [0.01, 0.05, 0.1, 0.2],\n",
        "    \"max_iter\": np.linspace(100, 1000, 10, dtype=int),\n",
        "    \"max_leaf_nodes\": [None] + list(np.linspace(10, 100, 10, dtype=int)),\n",
        "    \"max_depth\": [None] + list(np.linspace(1, 100, 10, dtype=int)),\n",
        "    \"min_samples_leaf\": np.linspace(1, 200, 10, dtype=int),\n",
        "    \"l2_regularization\": np.linspace(0.0, 1.0, 10),\n",
        "    \"max_features\": np.linspace(0.1, 1.0, 10),\n",
        "    \"max_bins\": np.linspace(2, 255, 10, dtype=int),\n",
        "}\n",
        "\n",
        "\n",
        "# initialize RandomizedSearchCV object\n",
        "hgbc_multi_randomized_search = RandomizedSearchCV(\n",
        "    estimator=hgbc_multi,\n",
        "    param_distributions=hgbc_params_grid,\n",
        "    cv=3,\n",
        "    random_state=42,\n",
        "    n_jobs=12,\n",
        "    verbose=2,\n",
        "    scoring=\"f1_macro\",\n",
        ")\n",
        "hgbc_binary_randomized_search = RandomizedSearchCV(\n",
        "    estimator=hgbc_binary,\n",
        "    param_distributions=hgbc_params_grid,\n",
        "    cv=3,\n",
        "    random_state=42,\n",
        "    n_jobs=12,\n",
        "    verbose=2,\n",
        "    scoring=\"f1_macro\",\n",
        ")\n",
        "# start search on hyper parameters\n",
        "hgbc_multi_search = hgbc_multi_randomized_search.fit(X_train_pca, y_train_multi)\n",
        "hgbc_binary_search = hgbc_binary_randomized_search.fit(X_train_pca, y_train_binary)"
      ]
    },
    {
      "cell_type": "code",
      "execution_count": null,
      "metadata": {},
      "outputs": [],
      "source": [
        "# print best estimator and best parameters for both multi class and binary classifications\n",
        "print(\n",
        "    f\"Best estimator for multi class classification: {hgbc_multi_search.best_estimator_}\"\n",
        ")\n",
        "print(\n",
        "    f\"Best parameters for multi class classification: {hgbc_multi_search.best_params_}\"\n",
        ")\n",
        "print(f\"Best estimator for binary classification: {hgbc_binary_search.best_estimator_}\")\n",
        "print(f\"Best parameters for binary classification: {hgbc_binary_search.best_params_}\")\n",
        "\n",
        "# print classification report for those parameters\n",
        "hgbc_multi_y_pred_random_search = hgbc_multi_search.predict(X_test_pca)\n",
        "hgbc_binary_y_pred_random_search = hgbc_binary_search.predict(X_test_pca)\n",
        "print(\n",
        "    \"\\nClassification Report for best parameters for multi class classification:\\n\",\n",
        "    classification_report(y_test_multi, hgbc_multi_y_pred_random_search),\n",
        ")\n",
        "print(\n",
        "    \"\\nClassification Report for best parameters for binary classification:\\n\",\n",
        "    classification_report(y_test_binary, hgbc_binary_y_pred_random_search),\n",
        ")"
      ]
    },
    {
      "cell_type": "markdown",
      "metadata": {},
      "source": [
        "### Multi-layer Perceptron (MLP) Classifier Training"
      ]
    },
    {
      "cell_type": "code",
      "execution_count": null,
      "metadata": {},
      "outputs": [],
      "source": [
        "from sklearn.neural_network import MLPClassifier\n",
        "from sklearn.metrics import classification_report"
      ]
    },
    {
      "cell_type": "code",
      "execution_count": null,
      "metadata": {},
      "outputs": [],
      "source": [
        "# train MLP model\n",
        "mlpc = MLPClassifier(random_state=42, max_iter=10000)\n",
        "mlpc.fit(X_train_pca, y_train)"
      ]
    },
    {
      "cell_type": "markdown",
      "metadata": {},
      "source": [
        "#### Accuracy of MLP Classifier Model"
      ]
    },
    {
      "cell_type": "code",
      "execution_count": null,
      "metadata": {},
      "outputs": [],
      "source": [
        "# check accuracy of MLP neural network\n",
        "y_pred = mlpc.predict(X_test_pca)\n",
        "print(\"\\nClassification Report:\\n\", classification_report(y_test, y_pred))"
      ]
    },
    {
      "cell_type": "markdown",
      "metadata": {},
      "source": [
        "### Optimizing MLP Classifier Model"
      ]
    }
  ],
  "metadata": {
    "colab": {
      "provenance": []
    },
    "kernelspec": {
      "display_name": "Python 3",
      "language": "python",
      "name": "python3"
    },
    "language_info": {
      "codemirror_mode": {
        "name": "ipython",
        "version": 3
      },
      "file_extension": ".py",
      "mimetype": "text/x-python",
      "name": "python",
      "nbconvert_exporter": "python",
      "pygments_lexer": "ipython3",
      "version": "3.13.2"
    }
  },
  "nbformat": 4,
  "nbformat_minor": 0
}
