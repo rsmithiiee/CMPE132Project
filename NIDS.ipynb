{
  "cells": [
    {
      "cell_type": "markdown",
      "metadata": {
        "id": "tmRRB6jExI9b"
      },
      "source": [
        "# Healthcare IoT Device Network Intrusion Detection System"
      ]
    },
    {
      "cell_type": "markdown",
      "metadata": {
        "id": "C6jQla4ixI9c"
      },
      "source": [
        "### Dataframe Creation"
      ]
    },
    {
      "cell_type": "code",
      "execution_count": null,
      "metadata": {
        "colab": {
          "base_uri": "https://localhost:8080/"
        },
        "id": "oHU72SbdxI9d",
        "outputId": "e8b736e8-349f-4ce9-c057-3d5b8981a4f7"
      },
      "outputs": [],
      "source": [
        "import pandas as pd\n",
        "import os\n",
        "import glob\n",
        "import gc\n",
        "\n",
        "#options to see all columns in dataframes\n",
        "pd.set_option(\"display.max_columns\", None)\n",
        "\n",
        "#get directory folder of train and test csv files (make sure to replace with path on your computer)\n",
        "train_dir = r\"C:\\Users\\spark\\CMPE 132 Project\\CMPE132Project\\Dataset\\Train\".replace(\"\\\\\", \"/\")\n",
        "test_dir = r\"C:\\Users\\spark\\CMPE 132 Project\\CMPE132Project\\Dataset\\Test\".replace(\"\\\\\", \"/\")\n",
        "\n",
        "#store paths of all csv files in the folder in a list\n",
        "train_csv_files = glob.glob(os.path.join(train_dir, \"*.csv\"))\n",
        "test_csv_files = glob.glob(os.path.join(test_dir, \"*.csv\"))\n",
        "\n",
        "#list to store csv files as dataframes\n",
        "train_dataframes = []\n",
        "test_dataframes = []\n",
        "\n",
        "#create dataframes for each csv with column to label the class type\n",
        "#get filename from path\n",
        "for file in train_csv_files:\n",
        "    filename = os.path.basename(file)\n",
        "\n",
        "    #split the file name to get the class of the attack\n",
        "    attack_type = filename.split(\"_train.pcap.csv\")[0]\n",
        "\n",
        "    #since some attacks are split into multiple files we need to remove numbers from the string\n",
        "    #if last character is a number we remove it to get the name of the attack type\n",
        "    if(attack_type[-1].isdigit()):\n",
        "        attack_type = attack_type[:-1]\n",
        "\n",
        "    #create a dataframe for the specific csv file\n",
        "    df = pd.read_csv(file)\n",
        "\n",
        "    #create a new column to classify the attack type in that csv file\n",
        "    df['classification'] = attack_type\n",
        "\n",
        "    #append the dataframe to the dataframes list\n",
        "    train_dataframes.append(df)\n",
        "\n",
        "    #delete the dataframe\n",
        "    del df\n",
        "\n",
        "#do the same for the test data\n",
        "for file in test_csv_files:\n",
        "    filename = os.path.basename(file)\n",
        "\n",
        "    #split the file name to get the class of the attack\n",
        "    attack_type = filename.split(\"_test.pcap.csv\")[0]\n",
        "\n",
        "    #since some attacks are split into multiple files we need to remove numbers from the string\n",
        "    #if last character is a number we remove it to get the name of the attack type\n",
        "    if(attack_type[-1].isdigit()):\n",
        "        attack_type = attack_type[:-1]\n",
        "\n",
        "    #create a dataframe for the specific csv file\n",
        "    df = pd.read_csv(file)\n",
        "\n",
        "    #create a new column to classify the attack type in that csv file\n",
        "    df['classification'] = attack_type\n",
        "\n",
        "    #append the dataframe to the dataframes list\n",
        "    test_dataframes.append(df)\n",
        "    \n",
        "    #delete the dataframe\n",
        "    del df\n",
        "\n",
        "\n",
        "#combine all of the dataframes into one\n",
        "train_df = pd.concat(train_dataframes, ignore_index=True)\n",
        "test_df = pd.concat(test_dataframes, ignore_index=True)\n",
        "\n",
        "del train_dataframes\n",
        "del test_dataframes\n",
        "\n",
        "gc.collect()"
      ]
    },
    {
      "cell_type": "markdown",
      "metadata": {
        "id": "N3Z-N421xI9e"
      },
      "source": [
        "### Data Preprocessing"
      ]
    },
    {
      "cell_type": "code",
      "execution_count": null,
      "metadata": {
        "id": "JTnox9_QxI9e"
      },
      "outputs": [
        {
          "name": "stdout",
          "output_type": "stream",
          "text": [
            "Reduced number of features after PCA: 22\n"
          ]
        }
      ],
      "source": [
        "from sklearn.preprocessing import LabelEncoder, StandardScaler\n",
        "from sklearn.decomposition import PCA\n",
        "\n",
        "#create training and testing data from the dataframes made earlier\n",
        "X_train = train_df.drop(columns=[\"classification\"])\n",
        "y_train = train_df['classification']\n",
        "\n",
        "X_test = test_df.drop(columns=['classification'])\n",
        "y_test = test_df['classification']\n",
        "\n",
        "#standardize features\n",
        "scaler = StandardScaler()\n",
        "X_train_scaled = scaler.fit_transform(X_train)\n",
        "del X_train\n",
        "X_test_scaled = scaler.transform(X_test)\n",
        "del X_test\n",
        "\n",
        "#use PCA to reduce feature\n",
        "pca = PCA(n_components=0.95)\n",
        "X_train_pca = pca.fit_transform(X_train_scaled)\n",
        "del X_train_scaled\n",
        "X_test_pca = pca.transform(X_test_scaled)\n",
        "del X_test_scaled\n",
        "\n",
        "print(f\"Reduced number of features after PCA: {X_train_pca.shape[1]}\")\n"
      ]
    },
    {
      "cell_type": "markdown",
      "metadata": {
        "id": "_qJ9R5eB3CCe"
      },
      "source": [
        "### Random Forest Classifier Training"
      ]
    },
    {
      "cell_type": "code",
      "execution_count": null,
      "metadata": {
        "id": "kiTLs2YY3Ih-"
      },
      "outputs": [],
      "source": [
        "from sklearn.ensemble import RandomForestClassifier\n",
        "from sklearn.metrics import classification_report, accuracy_score\n",
        "\n",
        "#train random forest classifier model\n",
        "rf = RandomForestClassifier()\n",
        "rf.fit(X_train_pca, y_train)\n",
        "\n",
        "y_pred = rf.predict(X_test_pca)\n",
        "print(\"Accuracy:\", accuracy_score(y_test, y_pred))\n",
        "print(\"\\nClassification Report:\\n\", classification_report(y_test, y_pred))"
      ]
    }
  ],
  "metadata": {
    "colab": {
      "provenance": []
    },
    "kernelspec": {
      "display_name": "Python 3",
      "language": "python",
      "name": "python3"
    },
    "language_info": {
      "codemirror_mode": {
        "name": "ipython",
        "version": 3
      },
      "file_extension": ".py",
      "mimetype": "text/x-python",
      "name": "python",
      "nbconvert_exporter": "python",
      "pygments_lexer": "ipython3",
      "version": "3.13.2"
    }
  },
  "nbformat": 4,
  "nbformat_minor": 0
}
